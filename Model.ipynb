{
 "cells": [
  {
   "cell_type": "markdown",
   "metadata": {},
   "source": [
    "# Malawi Flood Challenge"
   ]
  },
  {
   "cell_type": "raw",
   "metadata": {},
   "source": [
    "On 14 March 2019, tropical Cyclone Idai made landfall at the port of Beira, Mozambique, before moving across the region. Millions of people in Malawi, Mozambique and Zimbabwe have been affected by what is the worst natural disaster to hit southern Africa in at least two decades.\n",
    "\n",
    "In recent decades, countries across Africa have experienced an increase in the frequency and severity of floods. Malawi has been hit with major floods in 2015 and again in 2019. In fact, between 1946 and 2013, floods accounted for 48% of major disasters in Malawi. The Lower Shire Valley in southern Malawi, bordering Mozambique, composed of Chikwawa and Nsanje Districts is the area most prone to flooding.\n",
    "\n",
    "The objective of this challenge is to build a machine learning model that helps predict the location and extent of floods in southern Malawi.\n",
    "\n",
    "This is an implementation of a machine learning model to predict the floods in 2019 based on the data of 2015.\n"
   ]
  },
  {
   "cell_type": "code",
   "execution_count": 1,
   "metadata": {},
   "outputs": [],
   "source": [
    "# import librairies\n",
    "import pandas as pd\n",
    "from sklearn.model_selection import train_test_split\n",
    "from sklearn.ensemble import RandomForestRegressor\n",
    "from sklearn.metrics import mean_squared_error\n",
    "from sklearn.metrics import mean_absolute_error\n",
    "from sklearn.pipeline import Pipeline\n",
    "from sklearn.impute import SimpleImputer\n",
    "from sklearn.model_selection import cross_val_score\n",
    "from xgboost import XGBRegressor\n",
    "import lightgbm as lgb\n",
    "from catboost import CatBoostRegressor\n",
    "import seaborn as sns\n",
    "from sklearn import datasets\n",
    "import pygeohash as pgh\n",
    "from sklearn.preprocessing import LabelEncoder\n",
    "from scipy import stats\n",
    "from math import sin, cos, sqrt, atan2, radians\n",
    "from geojson import Point, MultiPoint\n",
    "from sklearn import linear_model\n",
    "from sklearn.feature_selection import SelectFromModel\n",
    "from sklearn.linear_model import LogisticRegression\n",
    "from sklearn.svm import LinearSVC\n",
    "from sklearn.feature_selection import SelectKBest, f_classif\n",
    "import matplotlib.pyplot as plt\n",
    "import numpy as np\n",
    "from sklearn.linear_model import LinearRegression\n",
    "from sklearn.model_selection import GridSearchCV"
   ]
  },
  {
   "cell_type": "code",
   "execution_count": 2,
   "metadata": {},
   "outputs": [
    {
     "data": {
      "text/html": [
       "<div>\n",
       "<style scoped>\n",
       "    .dataframe tbody tr th:only-of-type {\n",
       "        vertical-align: middle;\n",
       "    }\n",
       "\n",
       "    .dataframe tbody tr th {\n",
       "        vertical-align: top;\n",
       "    }\n",
       "\n",
       "    .dataframe thead th {\n",
       "        text-align: right;\n",
       "    }\n",
       "</style>\n",
       "<table border=\"1\" class=\"dataframe\">\n",
       "  <thead>\n",
       "    <tr style=\"text-align: right;\">\n",
       "      <th></th>\n",
       "      <th>X</th>\n",
       "      <th>Y</th>\n",
       "      <th>target_2015</th>\n",
       "      <th>elevation</th>\n",
       "      <th>precip 2014-11-16 - 2014-11-23</th>\n",
       "      <th>precip 2014-11-23 - 2014-11-30</th>\n",
       "      <th>precip 2014-11-30 - 2014-12-07</th>\n",
       "      <th>precip 2014-12-07 - 2014-12-14</th>\n",
       "      <th>precip 2014-12-14 - 2014-12-21</th>\n",
       "      <th>precip 2014-12-21 - 2014-12-28</th>\n",
       "      <th>...</th>\n",
       "      <th>precip 2019-03-24 - 2019-03-31</th>\n",
       "      <th>precip 2019-03-31 - 2019-04-07</th>\n",
       "      <th>precip 2019-04-07 - 2019-04-14</th>\n",
       "      <th>precip 2019-04-14 - 2019-04-21</th>\n",
       "      <th>precip 2019-04-21 - 2019-04-28</th>\n",
       "      <th>precip 2019-04-28 - 2019-05-05</th>\n",
       "      <th>precip 2019-05-05 - 2019-05-12</th>\n",
       "      <th>precip 2019-05-12 - 2019-05-19</th>\n",
       "      <th>LC_Type1_mode</th>\n",
       "      <th>Square_ID</th>\n",
       "    </tr>\n",
       "  </thead>\n",
       "  <tbody>\n",
       "    <tr>\n",
       "      <th>0</th>\n",
       "      <td>34.26</td>\n",
       "      <td>-15.91</td>\n",
       "      <td>0.0</td>\n",
       "      <td>887.764222</td>\n",
       "      <td>0.0</td>\n",
       "      <td>0.0</td>\n",
       "      <td>0.0</td>\n",
       "      <td>14.844025</td>\n",
       "      <td>14.552823</td>\n",
       "      <td>12.237766</td>\n",
       "      <td>...</td>\n",
       "      <td>0.896323</td>\n",
       "      <td>1.68</td>\n",
       "      <td>0.0</td>\n",
       "      <td>0.0</td>\n",
       "      <td>0.0</td>\n",
       "      <td>0.0</td>\n",
       "      <td>0.0</td>\n",
       "      <td>0.0</td>\n",
       "      <td>9</td>\n",
       "      <td>4e3c3896-14ce-11ea-bce5-f49634744a41</td>\n",
       "    </tr>\n",
       "    <tr>\n",
       "      <th>1</th>\n",
       "      <td>34.26</td>\n",
       "      <td>-15.90</td>\n",
       "      <td>0.0</td>\n",
       "      <td>743.403912</td>\n",
       "      <td>0.0</td>\n",
       "      <td>0.0</td>\n",
       "      <td>0.0</td>\n",
       "      <td>14.844025</td>\n",
       "      <td>14.552823</td>\n",
       "      <td>12.237766</td>\n",
       "      <td>...</td>\n",
       "      <td>0.896323</td>\n",
       "      <td>1.68</td>\n",
       "      <td>0.0</td>\n",
       "      <td>0.0</td>\n",
       "      <td>0.0</td>\n",
       "      <td>0.0</td>\n",
       "      <td>0.0</td>\n",
       "      <td>0.0</td>\n",
       "      <td>9</td>\n",
       "      <td>4e3c3897-14ce-11ea-bce5-f49634744a41</td>\n",
       "    </tr>\n",
       "    <tr>\n",
       "      <th>2</th>\n",
       "      <td>34.26</td>\n",
       "      <td>-15.89</td>\n",
       "      <td>0.0</td>\n",
       "      <td>565.728343</td>\n",
       "      <td>0.0</td>\n",
       "      <td>0.0</td>\n",
       "      <td>0.0</td>\n",
       "      <td>14.844025</td>\n",
       "      <td>14.552823</td>\n",
       "      <td>12.237766</td>\n",
       "      <td>...</td>\n",
       "      <td>0.896323</td>\n",
       "      <td>1.68</td>\n",
       "      <td>0.0</td>\n",
       "      <td>0.0</td>\n",
       "      <td>0.0</td>\n",
       "      <td>0.0</td>\n",
       "      <td>0.0</td>\n",
       "      <td>0.0</td>\n",
       "      <td>9</td>\n",
       "      <td>4e3c3898-14ce-11ea-bce5-f49634744a41</td>\n",
       "    </tr>\n",
       "    <tr>\n",
       "      <th>3</th>\n",
       "      <td>34.26</td>\n",
       "      <td>-15.88</td>\n",
       "      <td>0.0</td>\n",
       "      <td>443.392774</td>\n",
       "      <td>0.0</td>\n",
       "      <td>0.0</td>\n",
       "      <td>0.0</td>\n",
       "      <td>14.844025</td>\n",
       "      <td>14.552823</td>\n",
       "      <td>12.237766</td>\n",
       "      <td>...</td>\n",
       "      <td>0.896323</td>\n",
       "      <td>1.68</td>\n",
       "      <td>0.0</td>\n",
       "      <td>0.0</td>\n",
       "      <td>0.0</td>\n",
       "      <td>0.0</td>\n",
       "      <td>0.0</td>\n",
       "      <td>0.0</td>\n",
       "      <td>10</td>\n",
       "      <td>4e3c3899-14ce-11ea-bce5-f49634744a41</td>\n",
       "    </tr>\n",
       "    <tr>\n",
       "      <th>4</th>\n",
       "      <td>34.26</td>\n",
       "      <td>-15.87</td>\n",
       "      <td>0.0</td>\n",
       "      <td>437.443428</td>\n",
       "      <td>0.0</td>\n",
       "      <td>0.0</td>\n",
       "      <td>0.0</td>\n",
       "      <td>14.844025</td>\n",
       "      <td>14.552823</td>\n",
       "      <td>12.237766</td>\n",
       "      <td>...</td>\n",
       "      <td>0.896323</td>\n",
       "      <td>1.68</td>\n",
       "      <td>0.0</td>\n",
       "      <td>0.0</td>\n",
       "      <td>0.0</td>\n",
       "      <td>0.0</td>\n",
       "      <td>0.0</td>\n",
       "      <td>0.0</td>\n",
       "      <td>10</td>\n",
       "      <td>4e3c389a-14ce-11ea-bce5-f49634744a41</td>\n",
       "    </tr>\n",
       "  </tbody>\n",
       "</table>\n",
       "<p>5 rows × 40 columns</p>\n",
       "</div>"
      ],
      "text/plain": [
       "       X      Y  target_2015   elevation  precip 2014-11-16 - 2014-11-23  \\\n",
       "0  34.26 -15.91          0.0  887.764222                             0.0   \n",
       "1  34.26 -15.90          0.0  743.403912                             0.0   \n",
       "2  34.26 -15.89          0.0  565.728343                             0.0   \n",
       "3  34.26 -15.88          0.0  443.392774                             0.0   \n",
       "4  34.26 -15.87          0.0  437.443428                             0.0   \n",
       "\n",
       "   precip 2014-11-23 - 2014-11-30  precip 2014-11-30 - 2014-12-07  \\\n",
       "0                             0.0                             0.0   \n",
       "1                             0.0                             0.0   \n",
       "2                             0.0                             0.0   \n",
       "3                             0.0                             0.0   \n",
       "4                             0.0                             0.0   \n",
       "\n",
       "   precip 2014-12-07 - 2014-12-14  precip 2014-12-14 - 2014-12-21  \\\n",
       "0                       14.844025                       14.552823   \n",
       "1                       14.844025                       14.552823   \n",
       "2                       14.844025                       14.552823   \n",
       "3                       14.844025                       14.552823   \n",
       "4                       14.844025                       14.552823   \n",
       "\n",
       "   precip 2014-12-21 - 2014-12-28  ...  precip 2019-03-24 - 2019-03-31  \\\n",
       "0                       12.237766  ...                        0.896323   \n",
       "1                       12.237766  ...                        0.896323   \n",
       "2                       12.237766  ...                        0.896323   \n",
       "3                       12.237766  ...                        0.896323   \n",
       "4                       12.237766  ...                        0.896323   \n",
       "\n",
       "   precip 2019-03-31 - 2019-04-07  precip 2019-04-07 - 2019-04-14  \\\n",
       "0                            1.68                             0.0   \n",
       "1                            1.68                             0.0   \n",
       "2                            1.68                             0.0   \n",
       "3                            1.68                             0.0   \n",
       "4                            1.68                             0.0   \n",
       "\n",
       "   precip 2019-04-14 - 2019-04-21  precip 2019-04-21 - 2019-04-28  \\\n",
       "0                             0.0                             0.0   \n",
       "1                             0.0                             0.0   \n",
       "2                             0.0                             0.0   \n",
       "3                             0.0                             0.0   \n",
       "4                             0.0                             0.0   \n",
       "\n",
       "   precip 2019-04-28 - 2019-05-05  precip 2019-05-05 - 2019-05-12  \\\n",
       "0                             0.0                             0.0   \n",
       "1                             0.0                             0.0   \n",
       "2                             0.0                             0.0   \n",
       "3                             0.0                             0.0   \n",
       "4                             0.0                             0.0   \n",
       "\n",
       "   precip 2019-05-12 - 2019-05-19  LC_Type1_mode  \\\n",
       "0                             0.0              9   \n",
       "1                             0.0              9   \n",
       "2                             0.0              9   \n",
       "3                             0.0             10   \n",
       "4                             0.0             10   \n",
       "\n",
       "                              Square_ID  \n",
       "0  4e3c3896-14ce-11ea-bce5-f49634744a41  \n",
       "1  4e3c3897-14ce-11ea-bce5-f49634744a41  \n",
       "2  4e3c3898-14ce-11ea-bce5-f49634744a41  \n",
       "3  4e3c3899-14ce-11ea-bce5-f49634744a41  \n",
       "4  4e3c389a-14ce-11ea-bce5-f49634744a41  \n",
       "\n",
       "[5 rows x 40 columns]"
      ]
     },
     "execution_count": 2,
     "metadata": {},
     "output_type": "execute_result"
    }
   ],
   "source": [
    "#import and explore data\n",
    "data = pd.read_csv('Train.csv')\n",
    "sample = pd.read_csv('SampleSubmission.csv')\n",
    "data.head()"
   ]
  },
  {
   "cell_type": "code",
   "execution_count": 3,
   "metadata": {},
   "outputs": [],
   "source": [
    "#look for missing data \n",
    "cols_with_missing = [col for col in data.columns\n",
    "                     if data[col].isnull().any()]"
   ]
  },
  {
   "cell_type": "code",
   "execution_count": 4,
   "metadata": {},
   "outputs": [],
   "source": [
    "#Divide the data into train, validation and test data\n",
    "train_features = ['X', 'Y', 'elevation', 'precip 2014-11-16 - 2014-11-23',\n",
    "       'precip 2014-11-23 - 2014-11-30', 'precip 2014-11-30 - 2014-12-07',\n",
    "       'precip 2014-12-07 - 2014-12-14', 'precip 2014-12-14 - 2014-12-21',\n",
    "       'precip 2014-12-21 - 2014-12-28', 'precip 2014-12-28 - 2015-01-04',\n",
    "       'precip 2015-01-04 - 2015-01-11', 'precip 2015-01-11 - 2015-01-18',\n",
    "       'precip 2015-01-18 - 2015-01-25', 'precip 2015-01-25 - 2015-02-01',\n",
    "       'precip 2015-02-01 - 2015-02-08', 'precip 2015-02-08 - 2015-02-15',\n",
    "       'precip 2015-02-15 - 2015-02-22', 'precip 2015-02-22 - 2015-03-01',\n",
    "       'precip 2015-03-01 - 2015-03-08', 'precip 2015-03-08 - 2015-03-15','LC_Type1_mode']\n",
    "test_features = ['X', 'Y','elevation','precip 2019-01-20 - 2019-01-27', 'precip 2019-01-27 - 2019-02-03',\n",
    "       'precip 2019-02-03 - 2019-02-10', 'precip 2019-02-10 - 2019-02-17',\n",
    "       'precip 2019-02-17 - 2019-02-24', 'precip 2019-02-24 - 2019-03-03',\n",
    "       'precip 2019-03-03 - 2019-03-10', 'precip 2019-03-10 - 2019-03-17',\n",
    "       'precip 2019-03-17 - 2019-03-24', 'precip 2019-03-24 - 2019-03-31',\n",
    "       'precip 2019-03-31 - 2019-04-07', 'precip 2019-04-07 - 2019-04-14',\n",
    "       'precip 2019-04-14 - 2019-04-21', 'precip 2019-04-21 - 2019-04-28',\n",
    "       'precip 2019-04-28 - 2019-05-05', 'precip 2019-05-05 - 2019-05-12',\n",
    "       'precip 2019-05-12 - 2019-05-19', 'LC_Type1_mode']\n",
    "X = data[train_features].copy()\n",
    "X_test = data[test_features].copy()\n",
    "y = data['target_2015'].copy()\n",
    "X_train, X_valid, y_train, y_valid = train_test_split(X, y, train_size=0.9, test_size=0.1,\n",
    "                                                      random_state=0)\n"
   ]
  },
  {
   "cell_type": "markdown",
   "metadata": {},
   "source": [
    "# Testing different models"
   ]
  },
  {
   "cell_type": "code",
   "execution_count": 5,
   "metadata": {},
   "outputs": [
    {
     "name": "stdout",
     "output_type": "stream",
     "text": [
      "50.6281205308808\n"
     ]
    }
   ],
   "source": [
    "#test random forest and change hyperparameters\n",
    "Random_Forest_model = RandomForestRegressor(n_estimators=100, random_state=0)\n",
    "Random_Forest_model.fit(X_train, y_train)\n",
    "ypred = abs(Random_Forest_model.predict(X_valid))\n",
    "print(sum(abs(ypred - y_valid)))"
   ]
  },
  {
   "cell_type": "code",
   "execution_count": 6,
   "metadata": {},
   "outputs": [
    {
     "name": "stdout",
     "output_type": "stream",
     "text": [
      "[11:49:39] WARNING: src/objective/regression_obj.cu:152: reg:linear is now deprecated in favor of reg:squarederror.\n",
      "103.79791513738863\n"
     ]
    }
   ],
   "source": [
    "#test xgboost and change hyperparmeters\n",
    "XGB_model = XGBRegressor(n_estimators=100, learning_rate=0.05, n_jobs=4)\n",
    "XGB_model.fit(X_train, y_train)\n",
    "ypred = abs(XGB_model.predict(X_valid))\n",
    "print(sum(abs(ypred - y_valid)))\n"
   ]
  },
  {
   "cell_type": "code",
   "execution_count": 7,
   "metadata": {},
   "outputs": [
    {
     "name": "stdout",
     "output_type": "stream",
     "text": [
      "Average MAE score for RandomForestRegressor(bootstrap=True, ccp_alpha=0.0, criterion='mse',\n",
      "                      max_depth=None, max_features='auto', max_leaf_nodes=None,\n",
      "                      max_samples=None, min_impurity_decrease=0.0,\n",
      "                      min_impurity_split=None, min_samples_leaf=1,\n",
      "                      min_samples_split=2, min_weight_fraction_leaf=0.0,\n",
      "                      n_estimators=100, n_jobs=None, oob_score=False,\n",
      "                      random_state=0, verbose=0, warm_start=False) is 0.09314607509830566\n",
      "[11:50:09] WARNING: src/objective/regression_obj.cu:152: reg:linear is now deprecated in favor of reg:squarederror.\n",
      "[11:50:10] WARNING: src/objective/regression_obj.cu:152: reg:linear is now deprecated in favor of reg:squarederror.\n",
      "[11:50:10] WARNING: src/objective/regression_obj.cu:152: reg:linear is now deprecated in favor of reg:squarederror.\n",
      "[11:50:10] WARNING: src/objective/regression_obj.cu:152: reg:linear is now deprecated in favor of reg:squarederror.\n",
      "[11:50:11] WARNING: src/objective/regression_obj.cu:152: reg:linear is now deprecated in favor of reg:squarederror.\n",
      "Average MAE score for XGBRegressor(base_score=0.5, booster='gbtree', colsample_bylevel=1,\n",
      "             colsample_bynode=1, colsample_bytree=1, gamma=0,\n",
      "             importance_type='gain', learning_rate=0.05, max_delta_step=0,\n",
      "             max_depth=3, min_child_weight=1, missing=None, n_estimators=100,\n",
      "             n_jobs=4, nthread=None, objective='reg:linear', random_state=0,\n",
      "             reg_alpha=0, reg_lambda=1, scale_pos_weight=1, seed=None,\n",
      "             silent=None, subsample=1, verbosity=1) is 0.08591757757444081\n"
     ]
    }
   ],
   "source": [
    "models = [Random_Forest_model, XGB_model]\n",
    "\n",
    "for model in models:\n",
    "    \n",
    "    score = -1 * cross_val_score(model, X, y,\n",
    "                              cv=5,\n",
    "                              scoring='neg_mean_absolute_error')\n",
    "    print(\"Average MAE score for\",model, \"is\", score.mean())\n",
    "    "
   ]
  },
  {
   "cell_type": "code",
   "execution_count": 8,
   "metadata": {},
   "outputs": [
    {
     "name": "stdout",
     "output_type": "stream",
     "text": [
      "137.7343432648075\n"
     ]
    }
   ],
   "source": [
    "#test lgb and change hyperparameters\n",
    "dtrain = lgb.Dataset(X_train, label=y_train)\n",
    "dvalid = lgb.Dataset(X_valid, label=y_valid)\n",
    "param = {'num_leaves': 200, 'objective': 'binary'}\n",
    "param['metric'] = 'l1'\n",
    "num_round = 1000\n",
    "bst = lgb.train(param, dtrain, num_round, valid_sets=[dvalid], early_stopping_rounds=10, verbose_eval=False)\n",
    "ypred = abs(bst.predict(X_valid))\n",
    "print(sum(abs(ypred - y_valid)))"
   ]
  },
  {
   "cell_type": "code",
   "execution_count": 9,
   "metadata": {},
   "outputs": [
    {
     "name": "stdout",
     "output_type": "stream",
     "text": [
      "0:\tlearn: 0.1667690\ttotal: 430ms\tremaining: 12.5s\n",
      "1:\tlearn: 0.1424502\ttotal: 785ms\tremaining: 11s\n",
      "2:\tlearn: 0.1341229\ttotal: 1.14s\tremaining: 10.2s\n",
      "3:\tlearn: 0.1299886\ttotal: 1.47s\tremaining: 9.53s\n",
      "4:\tlearn: 0.1237261\ttotal: 1.78s\tremaining: 8.93s\n",
      "5:\tlearn: 0.1232402\ttotal: 1.82s\tremaining: 7.3s\n",
      "6:\tlearn: 0.1227176\ttotal: 2.14s\tremaining: 7.02s\n",
      "7:\tlearn: 0.1182501\ttotal: 2.46s\tremaining: 6.76s\n",
      "8:\tlearn: 0.1164206\ttotal: 2.85s\tremaining: 6.66s\n",
      "9:\tlearn: 0.1157875\ttotal: 3.21s\tremaining: 6.42s\n",
      "10:\tlearn: 0.1148356\ttotal: 3.6s\tremaining: 6.22s\n",
      "11:\tlearn: 0.1128288\ttotal: 3.95s\tremaining: 5.92s\n",
      "12:\tlearn: 0.1125903\ttotal: 4.28s\tremaining: 5.6s\n",
      "13:\tlearn: 0.1112057\ttotal: 4.61s\tremaining: 5.27s\n",
      "14:\tlearn: 0.1111543\ttotal: 4.74s\tremaining: 4.74s\n",
      "15:\tlearn: 0.1111533\ttotal: 4.79s\tremaining: 4.19s\n",
      "16:\tlearn: 0.1111529\ttotal: 4.88s\tremaining: 3.73s\n",
      "17:\tlearn: 0.1095274\ttotal: 5.23s\tremaining: 3.49s\n",
      "18:\tlearn: 0.1093676\ttotal: 5.58s\tremaining: 3.23s\n",
      "19:\tlearn: 0.1081962\ttotal: 5.91s\tremaining: 2.95s\n",
      "20:\tlearn: 0.1080891\ttotal: 6.23s\tremaining: 2.67s\n",
      "21:\tlearn: 0.1062474\ttotal: 6.56s\tremaining: 2.38s\n",
      "22:\tlearn: 0.1061714\ttotal: 6.87s\tremaining: 2.09s\n",
      "23:\tlearn: 0.1061653\ttotal: 6.91s\tremaining: 1.73s\n",
      "24:\tlearn: 0.1061616\ttotal: 7.01s\tremaining: 1.4s\n",
      "25:\tlearn: 0.1056363\ttotal: 7.32s\tremaining: 1.13s\n",
      "26:\tlearn: 0.1033542\ttotal: 7.63s\tremaining: 848ms\n",
      "27:\tlearn: 0.1025729\ttotal: 7.97s\tremaining: 569ms\n",
      "28:\tlearn: 0.1019267\ttotal: 8.28s\tremaining: 286ms\n",
      "29:\tlearn: 0.1018119\ttotal: 8.6s\tremaining: 0us\n",
      "76.49972645576112\n"
     ]
    }
   ],
   "source": [
    "#test catboost and change hyperparameters\n",
    "cat_model = CatBoostRegressor(iterations=30, learning_rate=0.6, depth=10)\n",
    "cat_model.fit(X_train, y_train)\n",
    "preds = cat_model.predict(X_valid)\n",
    "print(sum(abs(preds - y_valid)))"
   ]
  },
  {
   "cell_type": "markdown",
   "metadata": {},
   "source": [
    "# Feature engineering\n"
   ]
  },
  {
   "cell_type": "code",
   "execution_count": 5,
   "metadata": {},
   "outputs": [
    {
     "data": {
      "text/plain": [
       "<matplotlib.axes._subplots.AxesSubplot at 0x24c3719e8d0>"
      ]
     },
     "execution_count": 5,
     "metadata": {},
     "output_type": "execute_result"
    },
    {
     "data": {
      "image/png": "[encoded data removed]",
      "text/plain": [
       "<Figure size 432x288 with 1 Axes>"
      ]
     },
     "metadata": {
      "needs_background": "light"
     },
     "output_type": "display_data"
    }
   ],
   "source": [
    "#check the different correlations between features\n",
    "sns.regplot(x= X_train.LC_Type1_mode, y = y_train)"
   ]
  },
  {
   "cell_type": "code",
   "execution_count": 6,
   "metadata": {},
   "outputs": [
    {
     "data": {
      "text/plain": [
       "<matplotlib.axes._subplots.AxesSubplot at 0x24c3742a1d0>"
      ]
     },
     "execution_count": 6,
     "metadata": {},
     "output_type": "execute_result"
    },
    {
     "data": {
      "image/png": "[encoded data removed]",
      "text/plain": [
       "<Figure size 432x288 with 1 Axes>"
      ]
     },
     "metadata": {
      "needs_background": "light"
     },
     "output_type": "display_data"
    }
   ],
   "source": [
    "sns.regplot(x= X_train.elevation, y = y_train)"
   ]
  },
  {
   "cell_type": "code",
   "execution_count": 7,
   "metadata": {},
   "outputs": [
    {
     "data": {
      "text/plain": [
       "<matplotlib.axes._subplots.AxesSubplot at 0x24c381f6b38>"
      ]
     },
     "execution_count": 7,
     "metadata": {},
     "output_type": "execute_result"
    },
    {
     "data": {
      "image/png": "[encoded data removed]",
      "text/plain": [
       "<Figure size 432x288 with 1 Axes>"
      ]
     },
     "metadata": {
      "needs_background": "light"
     },
     "output_type": "display_data"
    }
   ],
   "source": [
    "sns.regplot(x= X_train.LC_Type1_mode , y = y_train)"
   ]
  },
  {
   "cell_type": "code",
   "execution_count": 8,
   "metadata": {},
   "outputs": [
    {
     "data": {
      "text/plain": [
       "<matplotlib.axes._subplots.AxesSubplot at 0x24c3824d438>"
      ]
     },
     "execution_count": 8,
     "metadata": {},
     "output_type": "execute_result"
    },
    {
     "data": {
      "image/png": "[encoded data removed]",
      "text/plain": [
       "<Figure size 432x288 with 1 Axes>"
      ]
     },
     "metadata": {
      "needs_background": "light"
     },
     "output_type": "display_data"
    }
   ],
   "source": [
    "feat = ['precip 2014-11-16 - 2014-11-23',\n",
    "       'precip 2014-11-23 - 2014-11-30', 'precip 2014-11-30 - 2014-12-07',\n",
    "       'precip 2014-12-07 - 2014-12-14', 'precip 2014-12-14 - 2014-12-21',\n",
    "       'precip 2014-12-21 - 2014-12-28', 'precip 2014-12-28 - 2015-01-04',\n",
    "       'precip 2015-01-04 - 2015-01-11', 'precip 2015-01-11 - 2015-01-18',\n",
    "       'precip 2015-01-18 - 2015-01-25', 'precip 2015-01-25 - 2015-02-01',\n",
    "       'precip 2015-02-01 - 2015-02-08', 'precip 2015-02-08 - 2015-02-15',\n",
    "       'precip 2015-02-15 - 2015-02-22', 'precip 2015-02-22 - 2015-03-01',\n",
    "       'precip 2015-03-01 - 2015-03-08', 'precip 2015-03-08 - 2015-03-15']\n",
    "test_feat = ['precip 2019-01-20 - 2019-01-27', 'precip 2019-01-27 - 2019-02-03',\n",
    "       'precip 2019-02-03 - 2019-02-10', 'precip 2019-02-10 - 2019-02-17',\n",
    "       'precip 2019-02-17 - 2019-02-24', 'precip 2019-02-24 - 2019-03-03',\n",
    "       'precip 2019-03-03 - 2019-03-10', 'precip 2019-03-10 - 2019-03-17',\n",
    "       'precip 2019-03-17 - 2019-03-24', 'precip 2019-03-24 - 2019-03-31',\n",
    "       'precip 2019-03-31 - 2019-04-07', 'precip 2019-04-07 - 2019-04-14',\n",
    "       'precip 2019-04-14 - 2019-04-21', 'precip 2019-04-21 - 2019-04-28',\n",
    "       'precip 2019-04-28 - 2019-05-05', 'precip 2019-05-05 - 2019-05-12',\n",
    "       'precip 2019-05-12 - 2019-05-19']\n",
    "#calculating the maximum of precipitation for the train data\n",
    "precip_max =X_train[feat].max(axis =1)\n",
    "sns.regplot(x= precip_max , y = y_train)"
   ]
  },
  {
   "cell_type": "code",
   "execution_count": 9,
   "metadata": {},
   "outputs": [
    {
     "data": {
      "text/plain": [
       "<matplotlib.axes._subplots.AxesSubplot at 0x24c382cc1d0>"
      ]
     },
     "execution_count": 9,
     "metadata": {},
     "output_type": "execute_result"
    },
    {
     "data": {
      "image/png": "[encoded data removed]",
      "text/plain": [
       "<Figure size 432x288 with 1 Axes>"
      ]
     },
     "metadata": {
      "needs_background": "light"
     },
     "output_type": "display_data"
    }
   ],
   "source": [
    "precip_min =X_train[feat].min(axis =1)\n",
    "sns.regplot(x=precip_min  , y = y_train)"
   ]
  },
  {
   "cell_type": "code",
   "execution_count": 10,
   "metadata": {},
   "outputs": [
    {
     "data": {
      "image/png": "[encoded data removed]",
      "text/plain": [
       "<Figure size 432x288 with 2 Axes>"
      ]
     },
     "metadata": {
      "needs_background": "light"
     },
     "output_type": "display_data"
    }
   ],
   "source": [
    "sns.heatmap(X_train.corr(), cmap=\"seismic\", annot=False, vmin=-1, vmax=1);"
   ]
  },
  {
   "cell_type": "code",
   "execution_count": 11,
   "metadata": {},
   "outputs": [
    {
     "name": "stdout",
     "output_type": "stream",
     "text": [
      "[26522.7689967365, 41198.88160486021, 19134.741766817104, 136183.85696054372, 146423.23278920318, 157626.06441133458, 377483.6478926689, 462912.1164237642, 969175.7180148631, 20601.818552636203, 570599.2198789973, 466232.9503488563, 205625.9095286183, 62613.3432921204, 281112.25228885177, 150020.87908741258, 5444.3347560449]\n"
     ]
    },
    {
     "data": {
      "text/plain": [
       "[<matplotlib.lines.Line2D at 0x24c3848dcf8>]"
      ]
     },
     "execution_count": 11,
     "metadata": {},
     "output_type": "execute_result"
    },
    {
     "data": {
      "image/png": "[encoded data removed]",
      "text/plain": [
       "<Figure size 432x288 with 1 Axes>"
      ]
     },
     "metadata": {
      "needs_background": "light"
     },
     "output_type": "display_data"
    }
   ],
   "source": [
    "#check the precipitations total according to their week\n",
    "tab = []\n",
    "for i in range(len(feat)):\n",
    "    tab.append(np.sum(X[feat[i]]))\n",
    "print(tab)\n",
    "plt.plot(tab)"
   ]
  },
  {
   "cell_type": "code",
   "execution_count": 12,
   "metadata": {},
   "outputs": [
    {
     "name": "stdout",
     "output_type": "stream",
     "text": [
      "[219475.69763500363, 73067.70599106721, 381179.6738812691, 160539.9620923185, 486998.2682775755, 30699.1938149612, 994957.4586064437, 202887.7875499328, 586804.6740108465, 35010.5638486014, 56863.6081942168, 58608.5284523836, 150296.3230601703, 27345.2353206171, 8663.4820412421, 15940.751205129502, 26110.849721709303]\n",
      "precip 2019-02-03 - 2019-02-10\n"
     ]
    },
    {
     "data": {
      "image/png": "[encoded data removed]",
      "text/plain": [
       "<Figure size 432x288 with 1 Axes>"
      ]
     },
     "metadata": {
      "needs_background": "light"
     },
     "output_type": "display_data"
    }
   ],
   "source": [
    "tab = []\n",
    "for i in range(len(test_feat)):\n",
    "    tab.append(np.sum(data[test_feat[i]]))\n",
    "print(tab)\n",
    "plt.plot(tab)\n",
    "print(test_feat[len(test_feat)-15])"
   ]
  },
  {
   "cell_type": "code",
   "execution_count": 13,
   "metadata": {},
   "outputs": [],
   "source": [
    "#adding some features: mean, min, max, std, 25%, 50%, 75% and std \n",
    "data['mean'] =data[feat].mean(axis =1)\n",
    "data['max'] = data[feat].max(axis =1)\n",
    "data['min'] = data[feat].min(axis =1)\n",
    "data['std'] = data[feat].std(axis = 1)\n",
    "data['25percentile'] = np.percentile(data[feat],25, axis =1)\n",
    "data['50percentile'] = np.percentile(data[feat],50, axis =1)\n",
    "data['75percentile'] = np.percentile(data[feat],75, axis =1)\n",
    "data['test_mean'] = data[test_feat].mean(axis =1)\n",
    "data['test_max'] = data[test_feat].mean(axis = 1)\n",
    "data['test_min'] = data[test_feat].min(axis = 1)\n",
    "data['test_std'] = data[test_feat].std(axis = 1)\n",
    "data['test_25percentile'] = np.percentile(data[test_feat],25, axis =1)\n",
    "data['test_50percentile'] = np.percentile(data[test_feat],50, axis =1)\n",
    "data['test_75percentile'] = np.percentile(data[test_feat],75, axis =1)\n",
    "\n",
    "\n",
    "#Add new precipitation columns that add up precipitations over each 2 weeks\n",
    "for i in range(0,16,2):\n",
    "    data[\"precip\" + str(i)] = data[[feat[i],feat[i+1]]].sum(axis =1)\n",
    "for i in range(0,16,2):\n",
    "    data[\"test_precip\" + str(i)] = data[[test_feat[i],test_feat[i+1]]].sum(axis =1)\n",
    "data1 = data.copy()\n",
    "#keep the precipitations calculated over 2 weeks and delete the precipitations for each week data\n",
    "train_features = [ 'X', 'Y','elevation', 'precip0','precip2',\n",
    "                  'precip4', 'precip6', 'precip8','precip10', 'precip12', 'precip14',\n",
    "                 'LC_Type1_mode', 'mean', 'max']\n",
    "test_features = [ 'X', 'Y','elevation','test_precip0','test_precip2', 'test_precip4', 'test_precip6',\n",
    "                  'test_precip8','test_precip10', 'test_precip12', 'test_precip14',\n",
    "                 'LC_Type1_mode','test_mean', 'test_max']\n",
    "X_test = data1[test_features].copy()\n",
    "X_test.columns = [ 'X', 'Y','elevation', 'precip0','precip2',\n",
    "                  'precip4', 'precip6', 'precip8','precip10', 'precip12', 'precip14',\n",
    "                 'LC_Type1_mode', 'mean', 'max']\n",
    "X = data1[train_features].copy()\n",
    "y = data1['target_2015'].copy()\n",
    "X_train, X_valid, y_train, y_valid = train_test_split(X, y, train_size=0.9, test_size=0.1,\n",
    "                                                      random_state=0)\n"
   ]
  },
  {
   "cell_type": "markdown",
   "metadata": {},
   "source": [
    "# Testing Models After Feature Engineering"
   ]
  },
  {
   "cell_type": "code",
   "execution_count": 64,
   "metadata": {},
   "outputs": [
    {
     "name": "stdout",
     "output_type": "stream",
     "text": [
      "0:\tlearn: 0.1690348\ttotal: 307ms\tremaining: 8.9s\n",
      "1:\tlearn: 0.1431938\ttotal: 553ms\tremaining: 7.74s\n",
      "2:\tlearn: 0.1334216\ttotal: 844ms\tremaining: 7.6s\n",
      "3:\tlearn: 0.1285708\ttotal: 1.12s\tremaining: 7.27s\n",
      "4:\tlearn: 0.1242891\ttotal: 1.35s\tremaining: 6.75s\n",
      "5:\tlearn: 0.1223209\ttotal: 1.6s\tremaining: 6.39s\n",
      "6:\tlearn: 0.1215799\ttotal: 1.85s\tremaining: 6.08s\n",
      "7:\tlearn: 0.1205584\ttotal: 2.1s\tremaining: 5.77s\n",
      "8:\tlearn: 0.1185743\ttotal: 2.35s\tremaining: 5.49s\n",
      "9:\tlearn: 0.1175636\ttotal: 2.6s\tremaining: 5.2s\n",
      "10:\tlearn: 0.1175616\ttotal: 2.69s\tremaining: 4.65s\n",
      "11:\tlearn: 0.1169846\ttotal: 2.96s\tremaining: 4.44s\n",
      "12:\tlearn: 0.1166966\ttotal: 3.2s\tremaining: 4.18s\n",
      "13:\tlearn: 0.1154888\ttotal: 3.45s\tremaining: 3.94s\n",
      "14:\tlearn: 0.1154886\ttotal: 3.48s\tremaining: 3.48s\n",
      "15:\tlearn: 0.1150212\ttotal: 3.72s\tremaining: 3.26s\n",
      "16:\tlearn: 0.1143748\ttotal: 3.99s\tremaining: 3.05s\n",
      "17:\tlearn: 0.1135318\ttotal: 4.25s\tremaining: 2.84s\n",
      "18:\tlearn: 0.1135318\ttotal: 4.27s\tremaining: 2.47s\n",
      "19:\tlearn: 0.1135318\ttotal: 4.29s\tremaining: 2.15s\n",
      "20:\tlearn: 0.1133745\ttotal: 4.54s\tremaining: 1.94s\n",
      "21:\tlearn: 0.1126999\ttotal: 4.81s\tremaining: 1.75s\n",
      "22:\tlearn: 0.1105458\ttotal: 5.06s\tremaining: 1.54s\n",
      "23:\tlearn: 0.1089616\ttotal: 5.31s\tremaining: 1.33s\n",
      "24:\tlearn: 0.1063515\ttotal: 5.56s\tremaining: 1.11s\n",
      "25:\tlearn: 0.1063201\ttotal: 5.8s\tremaining: 892ms\n",
      "26:\tlearn: 0.1060939\ttotal: 6.03s\tremaining: 670ms\n",
      "27:\tlearn: 0.1058679\ttotal: 6.26s\tremaining: 447ms\n",
      "28:\tlearn: 0.1058629\ttotal: 6.35s\tremaining: 219ms\n",
      "29:\tlearn: 0.1058618\ttotal: 6.37s\tremaining: 0us\n",
      "78.9594809836569\n"
     ]
    },
    {
     "data": {
      "text/html": [
       "<div>\n",
       "<style scoped>\n",
       "    .dataframe tbody tr th:only-of-type {\n",
       "        vertical-align: middle;\n",
       "    }\n",
       "\n",
       "    .dataframe tbody tr th {\n",
       "        vertical-align: top;\n",
       "    }\n",
       "\n",
       "    .dataframe thead th {\n",
       "        text-align: right;\n",
       "    }\n",
       "</style>\n",
       "<table border=\"1\" class=\"dataframe\">\n",
       "  <thead>\n",
       "    <tr style=\"text-align: right;\">\n",
       "      <th></th>\n",
       "      <th>Square_ID</th>\n",
       "      <th>target_2019</th>\n",
       "    </tr>\n",
       "  </thead>\n",
       "  <tbody>\n",
       "    <tr>\n",
       "      <th>0</th>\n",
       "      <td>4e3c3896-14ce-11ea-bce5-f49634744a41</td>\n",
       "      <td>0.009667</td>\n",
       "    </tr>\n",
       "    <tr>\n",
       "      <th>1</th>\n",
       "      <td>4e3c3897-14ce-11ea-bce5-f49634744a41</td>\n",
       "      <td>0.009667</td>\n",
       "    </tr>\n",
       "    <tr>\n",
       "      <th>2</th>\n",
       "      <td>4e3c3898-14ce-11ea-bce5-f49634744a41</td>\n",
       "      <td>0.020191</td>\n",
       "    </tr>\n",
       "    <tr>\n",
       "      <th>3</th>\n",
       "      <td>4e3c3899-14ce-11ea-bce5-f49634744a41</td>\n",
       "      <td>0.017124</td>\n",
       "    </tr>\n",
       "    <tr>\n",
       "      <th>4</th>\n",
       "      <td>4e3c389a-14ce-11ea-bce5-f49634744a41</td>\n",
       "      <td>0.017124</td>\n",
       "    </tr>\n",
       "  </tbody>\n",
       "</table>\n",
       "</div>"
      ],
      "text/plain": [
       "                              Square_ID  target_2019\n",
       "0  4e3c3896-14ce-11ea-bce5-f49634744a41     0.009667\n",
       "1  4e3c3897-14ce-11ea-bce5-f49634744a41     0.009667\n",
       "2  4e3c3898-14ce-11ea-bce5-f49634744a41     0.020191\n",
       "3  4e3c3899-14ce-11ea-bce5-f49634744a41     0.017124\n",
       "4  4e3c389a-14ce-11ea-bce5-f49634744a41     0.017124"
      ]
     },
     "execution_count": 64,
     "metadata": {},
     "output_type": "execute_result"
    }
   ],
   "source": [
    "#try with catboost\n",
    "cat_model = CatBoostRegressor(iterations=30, learning_rate=0.6, depth=10)\n",
    "cat_model.fit(X_train, y_train)\n",
    "preds = cat_model.predict(X_valid)\n",
    "print(sum(abs(preds - y_valid)))\n",
    "ypred = abs(cat_model.predict(X_test))\n",
    "cat_result = pd.DataFrame({'Square_ID': data.Square_ID, 'target_2019':ypred })\n",
    "cat_result.to_csv('output.csv', index=False) \n",
    "cat_result.head()"
   ]
  },
  {
   "cell_type": "code",
   "execution_count": 66,
   "metadata": {},
   "outputs": [
    {
     "name": "stdout",
     "output_type": "stream",
     "text": [
      "49.27465292161295\n"
     ]
    },
    {
     "data": {
      "text/html": [
       "<div>\n",
       "<style scoped>\n",
       "    .dataframe tbody tr th:only-of-type {\n",
       "        vertical-align: middle;\n",
       "    }\n",
       "\n",
       "    .dataframe tbody tr th {\n",
       "        vertical-align: top;\n",
       "    }\n",
       "\n",
       "    .dataframe thead th {\n",
       "        text-align: right;\n",
       "    }\n",
       "</style>\n",
       "<table border=\"1\" class=\"dataframe\">\n",
       "  <thead>\n",
       "    <tr style=\"text-align: right;\">\n",
       "      <th></th>\n",
       "      <th>Square_ID</th>\n",
       "      <th>target_2019</th>\n",
       "    </tr>\n",
       "  </thead>\n",
       "  <tbody>\n",
       "    <tr>\n",
       "      <th>0</th>\n",
       "      <td>4e3c3896-14ce-11ea-bce5-f49634744a41</td>\n",
       "      <td>0.004668</td>\n",
       "    </tr>\n",
       "    <tr>\n",
       "      <th>1</th>\n",
       "      <td>4e3c3897-14ce-11ea-bce5-f49634744a41</td>\n",
       "      <td>0.004668</td>\n",
       "    </tr>\n",
       "    <tr>\n",
       "      <th>2</th>\n",
       "      <td>4e3c3898-14ce-11ea-bce5-f49634744a41</td>\n",
       "      <td>0.005481</td>\n",
       "    </tr>\n",
       "    <tr>\n",
       "      <th>3</th>\n",
       "      <td>4e3c3899-14ce-11ea-bce5-f49634744a41</td>\n",
       "      <td>0.008532</td>\n",
       "    </tr>\n",
       "    <tr>\n",
       "      <th>4</th>\n",
       "      <td>4e3c389a-14ce-11ea-bce5-f49634744a41</td>\n",
       "      <td>0.009926</td>\n",
       "    </tr>\n",
       "  </tbody>\n",
       "</table>\n",
       "</div>"
      ],
      "text/plain": [
       "                              Square_ID  target_2019\n",
       "0  4e3c3896-14ce-11ea-bce5-f49634744a41     0.004668\n",
       "1  4e3c3897-14ce-11ea-bce5-f49634744a41     0.004668\n",
       "2  4e3c3898-14ce-11ea-bce5-f49634744a41     0.005481\n",
       "3  4e3c3899-14ce-11ea-bce5-f49634744a41     0.008532\n",
       "4  4e3c389a-14ce-11ea-bce5-f49634744a41     0.009926"
      ]
     },
     "execution_count": 66,
     "metadata": {},
     "output_type": "execute_result"
    }
   ],
   "source": [
    "#Try with random forest\n",
    "Random_Forest_model = RandomForestRegressor(n_estimators=100, random_state=0)\n",
    "Random_Forest_model.fit(X_train, y_train)\n",
    "ypred = abs(Random_Forest_model.predict(X_valid))\n",
    "print(sum(abs(ypred - y_valid)))\n",
    "pred = abs(Random_Forest_model.predict(X_test))\n",
    "rf_result = pd.DataFrame({'Square_ID': data.Square_ID, 'target_2019':pred })\n",
    "rf_result.to_csv('output.csv', index=False) \n",
    "rf_result.head()"
   ]
  },
  {
   "cell_type": "code",
   "execution_count": 67,
   "metadata": {},
   "outputs": [],
   "source": [
    "# try lightgbm\n",
    "X_trainbis= X_train.copy()\n",
    "X_validbis= X_valid.copy()\n",
    "X_testbis = X_test.copy()\n",
    "dtrain = lgb.Dataset(X_trainbis, label=y_train)\n",
    "dvalid = lgb.Dataset(X_validbis, label=y_valid)\n",
    "param = {'num_leaves': 200, 'objective': 'binary'}\n",
    "param['metric'] = 'l1'\n",
    "num_round = 1000\n",
    "bst = lgb.train(param, dtrain, num_round, valid_sets=[dvalid], early_stopping_rounds=10, verbose_eval=False)"
   ]
  },
  {
   "cell_type": "code",
   "execution_count": 68,
   "metadata": {},
   "outputs": [
    {
     "name": "stdout",
     "output_type": "stream",
     "text": [
      "137.98673469056143\n"
     ]
    }
   ],
   "source": [
    "ypred = abs(bst.predict(X_validbis))\n",
    "print(sum(abs(ypred - y_valid)))\n"
   ]
  },
  {
   "cell_type": "code",
   "execution_count": 69,
   "metadata": {},
   "outputs": [
    {
     "data": {
      "text/html": [
       "<div>\n",
       "<style scoped>\n",
       "    .dataframe tbody tr th:only-of-type {\n",
       "        vertical-align: middle;\n",
       "    }\n",
       "\n",
       "    .dataframe tbody tr th {\n",
       "        vertical-align: top;\n",
       "    }\n",
       "\n",
       "    .dataframe thead th {\n",
       "        text-align: right;\n",
       "    }\n",
       "</style>\n",
       "<table border=\"1\" class=\"dataframe\">\n",
       "  <thead>\n",
       "    <tr style=\"text-align: right;\">\n",
       "      <th></th>\n",
       "      <th>Square_ID</th>\n",
       "      <th>target_2019</th>\n",
       "    </tr>\n",
       "  </thead>\n",
       "  <tbody>\n",
       "    <tr>\n",
       "      <th>0</th>\n",
       "      <td>4e3c3896-14ce-11ea-bce5-f49634744a41</td>\n",
       "      <td>0.000022</td>\n",
       "    </tr>\n",
       "    <tr>\n",
       "      <th>1</th>\n",
       "      <td>4e3c3897-14ce-11ea-bce5-f49634744a41</td>\n",
       "      <td>0.000026</td>\n",
       "    </tr>\n",
       "    <tr>\n",
       "      <th>2</th>\n",
       "      <td>4e3c3898-14ce-11ea-bce5-f49634744a41</td>\n",
       "      <td>0.000047</td>\n",
       "    </tr>\n",
       "    <tr>\n",
       "      <th>3</th>\n",
       "      <td>4e3c3899-14ce-11ea-bce5-f49634744a41</td>\n",
       "      <td>0.000052</td>\n",
       "    </tr>\n",
       "    <tr>\n",
       "      <th>4</th>\n",
       "      <td>4e3c389a-14ce-11ea-bce5-f49634744a41</td>\n",
       "      <td>0.000130</td>\n",
       "    </tr>\n",
       "  </tbody>\n",
       "</table>\n",
       "</div>"
      ],
      "text/plain": [
       "                              Square_ID  target_2019\n",
       "0  4e3c3896-14ce-11ea-bce5-f49634744a41     0.000022\n",
       "1  4e3c3897-14ce-11ea-bce5-f49634744a41     0.000026\n",
       "2  4e3c3898-14ce-11ea-bce5-f49634744a41     0.000047\n",
       "3  4e3c3899-14ce-11ea-bce5-f49634744a41     0.000052\n",
       "4  4e3c389a-14ce-11ea-bce5-f49634744a41     0.000130"
      ]
     },
     "execution_count": 69,
     "metadata": {},
     "output_type": "execute_result"
    }
   ],
   "source": [
    "ypred = abs(bst.predict(X_test))\n",
    "lgb_result = pd.DataFrame({'Square_ID': data.Square_ID, 'target_2019':ypred })\n",
    "lgb_result.to_csv('output.csv', index=False) \n",
    "lgb_result.head()"
   ]
  },
  {
   "cell_type": "code",
   "execution_count": 70,
   "metadata": {},
   "outputs": [
    {
     "name": "stderr",
     "output_type": "stream",
     "text": [
      "C:\\Users\\user\\Anaconda3\\lib\\site-packages\\sklearn\\model_selection\\_search.py:823: FutureWarning: The parameter 'iid' is deprecated in 0.22 and will be removed in 0.24.\n",
      "  \"removed in 0.24.\", FutureWarning\n"
     ]
    },
    {
     "name": "stdout",
     "output_type": "stream",
     "text": [
      "[13:31:23] WARNING: src/objective/regression_obj.cu:152: reg:linear is now deprecated in favor of reg:squarederror.\n"
     ]
    },
    {
     "data": {
      "text/plain": [
       "({'max_depth': 6, 'min_child_weight': 6}, -0.04299300183850093)"
      ]
     },
     "execution_count": 70,
     "metadata": {},
     "output_type": "execute_result"
    }
   ],
   "source": [
    "#XGB gives better results \n",
    "#XGB hyperparameter tuning\n",
    "param_test2 = {\n",
    " 'max_depth':[4,5,6],\n",
    " 'min_child_weight':[4,5,6]\n",
    "}\n",
    "gsearch2 = GridSearchCV(estimator = XGBRegressor( learning_rate=0.1, n_estimators=100, max_depth=5,\n",
    " min_child_weight=2, gamma=0, subsample=0.8, colsample_bytree=0.8,\n",
    "nthread=4, scale_pos_weight=1,seed=27), \n",
    " param_grid = param_test2, scoring='neg_mean_absolute_error', n_jobs=4,iid=False, cv=5)\n",
    "gsearch2.fit(X_train, y_train)\n",
    "gsearch2.best_params_, gsearch2.best_score_\n"
   ]
  },
  {
   "cell_type": "code",
   "execution_count": 34,
   "metadata": {},
   "outputs": [
    {
     "name": "stdout",
     "output_type": "stream",
     "text": [
      "[11:39:22] WARNING: src/objective/regression_obj.cu:152: reg:linear is now deprecated in favor of reg:squarederror.\n"
     ]
    },
    {
     "data": {
      "text/plain": [
       "({'gamma': 0.0}, -0.0433169584846527)"
      ]
     },
     "execution_count": 34,
     "metadata": {},
     "output_type": "execute_result"
    }
   ],
   "source": [
    "#tuning gamma\n",
    "param_test3 = {\n",
    " 'gamma':[i/10.0 for i in range(0,5)]\n",
    "}\n",
    "gsearch3 = GridSearchCV(estimator = XGBRegressor( learning_rate =0.1, n_estimators=100, max_depth=6,\n",
    " min_child_weight=6, gamma=0, subsample=0.8, colsample_bytree=0.8, nthread=4, scale_pos_weight=1,seed=27), \n",
    " param_grid = param_test3, scoring='neg_mean_absolute_error',n_jobs=4,iid=False, cv=5)\n",
    "gsearch3.fit(X_train, y_train)\n",
    "gsearch3.best_params_, gsearch3.best_score_"
   ]
  },
  {
   "cell_type": "code",
   "execution_count": 35,
   "metadata": {},
   "outputs": [
    {
     "name": "stdout",
     "output_type": "stream",
     "text": [
      "[11:39:42] WARNING: src/objective/regression_obj.cu:152: reg:linear is now deprecated in favor of reg:squarederror.\n"
     ]
    },
    {
     "data": {
      "text/plain": [
       "({'colsample_bytree': 0.9, 'subsample': 0.9}, -0.042574349458928934)"
      ]
     },
     "execution_count": 35,
     "metadata": {},
     "output_type": "execute_result"
    }
   ],
   "source": [
    "param_test4 = {\n",
    " 'subsample':[i/10.0 for i in range(6,10)],\n",
    " 'colsample_bytree':[i/10.0 for i in range(6,10)]\n",
    "}\n",
    "gsearch4 = GridSearchCV(estimator = XGBRegressor( learning_rate =0.1, n_estimators=100, max_depth=6,\n",
    " min_child_weight=6, gamma=0, subsample=0.8, colsample_bytree=0.8, nthread=4, scale_pos_weight=1,seed=27), \n",
    " param_grid = param_test4, scoring='neg_mean_absolute_error', n_jobs=4,iid=False, cv=5)\n",
    "gsearch4.fit(X_train, y_train)\n",
    "gsearch4.best_params_, gsearch4.best_score_"
   ]
  },
  {
   "cell_type": "code",
   "execution_count": 36,
   "metadata": {},
   "outputs": [
    {
     "name": "stdout",
     "output_type": "stream",
     "text": [
      "[11:39:54] WARNING: src/objective/regression_obj.cu:152: reg:linear is now deprecated in favor of reg:squarederror.\n"
     ]
    },
    {
     "data": {
      "text/plain": [
       "({'colsample_bytree': 0.8, 'subsample': 0.85}, -0.043251222786815605)"
      ]
     },
     "execution_count": 36,
     "metadata": {},
     "output_type": "execute_result"
    }
   ],
   "source": [
    "param_test5 = {\n",
    " 'subsample':[i/100.0 for i in range(75,90,5)],\n",
    " 'colsample_bytree':[i/100.0 for i in range(75,90,5)]\n",
    "}\n",
    "gsearch5 = GridSearchCV(estimator = XGBRegressor( learning_rate =0.1, n_estimators=100, max_depth=6,\n",
    " min_child_weight=6, gamma=0, subsample=0.9, colsample_bytree=0.9, nthread=4, scale_pos_weight=1,seed=27), \n",
    " param_grid = param_test5, scoring='neg_mean_absolute_error', n_jobs=4,iid=False, cv=5)\n",
    "gsearch5.fit(X_train, y_train)\n",
    "gsearch5.best_params_, gsearch5.best_score_"
   ]
  },
  {
   "cell_type": "code",
   "execution_count": 37,
   "metadata": {},
   "outputs": [
    {
     "name": "stdout",
     "output_type": "stream",
     "text": [
      "[11:40:01] WARNING: src/objective/regression_obj.cu:152: reg:linear is now deprecated in favor of reg:squarederror.\n"
     ]
    },
    {
     "data": {
      "text/plain": [
       "({'reg_alpha': 1e-06}, -0.04421319325074055)"
      ]
     },
     "execution_count": 37,
     "metadata": {},
     "output_type": "execute_result"
    }
   ],
   "source": [
    "param_test6 = {\n",
    " 'reg_alpha':[1e-6, 1e-5, 1e-4, 1e-3, 1e-2]\n",
    "}\n",
    "gsearch6 = GridSearchCV(estimator = XGBRegressor( learning_rate =0.1, n_estimators=100, max_depth=6,\n",
    " min_child_weight=6, gamma=0.1, subsample=0.8, colsample_bytree=0.8,\n",
    " nthread=4, scale_pos_weight=1,seed=27), \n",
    " param_grid = param_test6, scoring='neg_mean_absolute_error',n_jobs=4,iid=False, cv=5)\n",
    "gsearch6.fit(X_train, y_train)\n",
    "gsearch6.best_params_, gsearch6.best_score_"
   ]
  },
  {
   "cell_type": "code",
   "execution_count": 71,
   "metadata": {},
   "outputs": [
    {
     "name": "stdout",
     "output_type": "stream",
     "text": [
      "[13:34:22] WARNING: src/objective/regression_obj.cu:152: reg:linear is now deprecated in favor of reg:squarederror.\n",
      "81.8359855855672\n"
     ]
    },
    {
     "data": {
      "text/html": [
       "<div>\n",
       "<style scoped>\n",
       "    .dataframe tbody tr th:only-of-type {\n",
       "        vertical-align: middle;\n",
       "    }\n",
       "\n",
       "    .dataframe tbody tr th {\n",
       "        vertical-align: top;\n",
       "    }\n",
       "\n",
       "    .dataframe thead th {\n",
       "        text-align: right;\n",
       "    }\n",
       "</style>\n",
       "<table border=\"1\" class=\"dataframe\">\n",
       "  <thead>\n",
       "    <tr style=\"text-align: right;\">\n",
       "      <th></th>\n",
       "      <th>Square_ID</th>\n",
       "      <th>target_2019</th>\n",
       "    </tr>\n",
       "  </thead>\n",
       "  <tbody>\n",
       "    <tr>\n",
       "      <th>0</th>\n",
       "      <td>4e3c3896-14ce-11ea-bce5-f49634744a41</td>\n",
       "      <td>0.011298</td>\n",
       "    </tr>\n",
       "    <tr>\n",
       "      <th>1</th>\n",
       "      <td>4e3c3897-14ce-11ea-bce5-f49634744a41</td>\n",
       "      <td>0.011298</td>\n",
       "    </tr>\n",
       "    <tr>\n",
       "      <th>2</th>\n",
       "      <td>4e3c3898-14ce-11ea-bce5-f49634744a41</td>\n",
       "      <td>0.031355</td>\n",
       "    </tr>\n",
       "    <tr>\n",
       "      <th>3</th>\n",
       "      <td>4e3c3899-14ce-11ea-bce5-f49634744a41</td>\n",
       "      <td>0.033307</td>\n",
       "    </tr>\n",
       "    <tr>\n",
       "      <th>4</th>\n",
       "      <td>4e3c389a-14ce-11ea-bce5-f49634744a41</td>\n",
       "      <td>0.033307</td>\n",
       "    </tr>\n",
       "  </tbody>\n",
       "</table>\n",
       "</div>"
      ],
      "text/plain": [
       "                              Square_ID  target_2019\n",
       "0  4e3c3896-14ce-11ea-bce5-f49634744a41     0.011298\n",
       "1  4e3c3897-14ce-11ea-bce5-f49634744a41     0.011298\n",
       "2  4e3c3898-14ce-11ea-bce5-f49634744a41     0.031355\n",
       "3  4e3c3899-14ce-11ea-bce5-f49634744a41     0.033307\n",
       "4  4e3c389a-14ce-11ea-bce5-f49634744a41     0.033307"
      ]
     },
     "execution_count": 71,
     "metadata": {},
     "output_type": "execute_result"
    }
   ],
   "source": [
    "\n",
    "XGB_model = XGBRegressor(learning_rate =0.04,\n",
    " n_estimators=103,\n",
    " max_depth=6,\n",
    " min_child_weight=6,\n",
    " gamma=0,\n",
    " subsample=0.8,\n",
    "reg_alpha = 1e-6,\n",
    " colsample_bytree=0.8,\n",
    " nthread=4,\n",
    " scale_pos_weight=1,\n",
    " seed=27)\n",
    "XGB_model.fit(X_train, y_train)\n",
    "ypred = abs(XGB_model.predict(X_valid))\n",
    "print(sum(abs(ypred - y_valid)))\n",
    "pred = abs(XGB_model.predict(X_test))\n",
    "XGB_result = pd.DataFrame({'Square_ID': data.Square_ID, 'target_2019':pred })\n",
    "XGB_result.to_csv('output.csv', index=False) \n",
    "XGB_result.head()"
   ]
  },
  {
   "cell_type": "code",
   "execution_count": null,
   "metadata": {},
   "outputs": [],
   "source": []
  }
 ],
 "metadata": {
  "kernelspec": {
   "display_name": "Python 3",
   "language": "python",
   "name": "python3"
  },
  "language_info": {
   "codemirror_mode": {
    "name": "ipython",
    "version": 3
   },
   "file_extension": ".py",
   "mimetype": "text/x-python",
   "name": "python",
   "nbconvert_exporter": "python",
   "pygments_lexer": "ipython3",
   "version": "3.6.10"
  }
 },
 "nbformat": 4,
 "nbformat_minor": 2
}
